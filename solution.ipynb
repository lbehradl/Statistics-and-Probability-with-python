{
 "cells": [
  {
   "cell_type": "code",
   "execution_count": 4,
   "id": "9ff1daf7",
   "metadata": {},
   "outputs": [],
   "source": [
    "from itertools import permutations\n",
    "\n",
    "def solve_yasuj():\n",
    "    all_permutations = permutations(\"yasuj\")\n",
    "    \n",
    "    valid_permutations = [perm for perm in all_permutations if perm[0] < perm[-1]]\n",
    "    a=[]\n",
    "    for perm in valid_permutations:\n",
    "        a.append(''.join(perm))\n",
    "    \n",
    "    count = len(valid_permutations)\n",
    "    print(count)\n",
    "    print(a)\n"
   ]
  }
 ],
 "metadata": {
  "kernelspec": {
   "display_name": "Python 3 (ipykernel)",
   "language": "python",
   "name": "python3"
  },
  "language_info": {
   "codemirror_mode": {
    "name": "ipython",
    "version": 3
   },
   "file_extension": ".py",
   "mimetype": "text/x-python",
   "name": "python",
   "nbconvert_exporter": "python",
   "pygments_lexer": "ipython3",
   "version": "3.10.12"
  }
 },
 "nbformat": 4,
 "nbformat_minor": 5
}
